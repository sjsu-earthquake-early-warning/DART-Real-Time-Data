{
 "cells": [
  {
   "cell_type": "code",
   "execution_count": 6,
   "metadata": {},
   "outputs": [
    {
     "name": "stdout",
     "output_type": "stream",
     "text": [
      "http://service.ncedc.org/DART/NC/JSFB.NC/EHZ..D/JSFB.NC.EHZ..D.2019.017\n"
     ]
    }
   ],
   "source": [
    "#JSFB - Stanford Station\n",
    "#JSCB - Stevens Creek Station\n",
    "#JJR - Near Los Altos Woods\n",
    "#JSJ - Near Cupertino and Los Altos\n",
    "\n",
    "from obspy import read\n",
    "import obspy.imaging\n",
    "import time\n",
    "from obspy.core.utcdatetime import UTCDateTime\n",
    "from IPython.display import clear_output\n",
    "\n",
    "#First get current UTC year and day as a string to figure out the part of the link tothe miniSeedStream\n",
    "today = UTCDateTime.now().utctimetuple()\n",
    "yearAsString = str(today[0])\n",
    "dayOfYearAsNum = \"{0:0=3d}\".format(today[7]) #formats day of year to 3 digits...\n",
    "dayOfYearAsString = str(dayOfYearAsNum).zfill(3)\n",
    "\n",
    "#Append First and Second String to create link to JSFB Station\n",
    "JSFB_url = \"http://service.ncedc.org/DART/NC/JSFB.NC/EHZ..D/JSFB.NC.EHZ..D.\" + yearAsString + \".\" + dayOfYearAsString\n",
    "print(JSFB_url)"
   ]
  },
  {
   "cell_type": "code",
   "execution_count": null,
   "metadata": {},
   "outputs": [],
   "source": [
    "#Read MiniSeed File from JSFB Station EHZ Channel\n",
    "\n",
    "while 1:\n",
    "    st = read(JSFB_url)\n",
    "    param_endtime = UTCDateTime().__sub__(2)\n",
    "    param_starttime = UTCDateTime().__sub__(12) # current time minus 12 seconds...\n",
    "    daplot = st.plot(starttime=param_starttime, endtime=param_endtime)\n",
    "    time.sleep(1)\n",
    "    clear_output()\n",
    "\n",
    "#print(param_starttime)\n",
    "#print(param_endtime)\n",
    "#print(st[0].stats) \n",
    "#print(st) #This prints traces in the Stream...\n",
    "\n",
    "\n",
    "\n"
   ]
  },
  {
   "cell_type": "code",
   "execution_count": null,
   "metadata": {},
   "outputs": [],
   "source": []
  }
 ],
 "metadata": {
  "kernelspec": {
   "display_name": "Python 3",
   "language": "python",
   "name": "python3"
  },
  "language_info": {
   "codemirror_mode": {
    "name": "ipython",
    "version": 3
   },
   "file_extension": ".py",
   "mimetype": "text/x-python",
   "name": "python",
   "nbconvert_exporter": "python",
   "pygments_lexer": "ipython3",
   "version": "3.6.6"
  }
 },
 "nbformat": 4,
 "nbformat_minor": 2
}
